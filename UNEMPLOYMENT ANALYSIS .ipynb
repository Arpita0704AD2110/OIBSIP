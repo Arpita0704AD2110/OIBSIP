{
 "cells": [
  {
   "cell_type": "markdown",
   "id": "80adce81",
   "metadata": {},
   "source": [
    "# Unemployment analysis with python(TASK-2)"
   ]
  },
  {
   "cell_type": "code",
   "execution_count": null,
   "id": "e07d4396",
   "metadata": {},
   "outputs": [],
   "source": [
    "import pandas as pd\n",
    "import numpy as np \n",
    "import seaborn as sns\n",
    "from matplotlib import pyplot as plt\n",
    "import plotly.express as px"
   ]
  },
  {
   "cell_type": "code",
   "execution_count": null,
   "id": "fe06c46e",
   "metadata": {},
   "outputs": [],
   "source": [
    "dk=pd.read_csv(r\"C:\\Desktop\\Unemployment in India.csv\")\n",
    "dk=pd.read_csv(r\"C:\\Desktop\\Unemployment_Rate_upto_11_2020.csv\")"
   ]
  },
  {
   "cell_type": "code",
   "execution_count": null,
   "id": "a671c441",
   "metadata": {},
   "outputs": [],
   "source": [
    "dk"
   ]
  },
  {
   "cell_type": "code",
   "execution_count": null,
   "id": "6cc221b0",
   "metadata": {},
   "outputs": [],
   "source": [
    "dk.sample(8)"
   ]
  },
  {
   "cell_type": "code",
   "execution_count": null,
   "id": "de60d188",
   "metadata": {},
   "outputs": [],
   "source": [
    "dk.shape"
   ]
  },
  {
   "cell_type": "code",
   "execution_count": null,
   "id": "26a88c27",
   "metadata": {},
   "outputs": [],
   "source": [
    "print(\"Rows--->\",dk.shape[0])\n",
    "print(\"Columns--->\",dk.shape[1])"
   ]
  },
  {
   "cell_type": "code",
   "execution_count": null,
   "id": "6e1dd8b6",
   "metadata": {},
   "outputs": [],
   "source": [
    "dk.isnull()"
   ]
  },
  {
   "cell_type": "code",
   "execution_count": null,
   "id": "2fa8a0ef",
   "metadata": {},
   "outputs": [],
   "source": [
    "dk.isnull().sum()"
   ]
  },
  {
   "cell_type": "code",
   "execution_count": null,
   "id": "43bbd028",
   "metadata": {},
   "outputs": [],
   "source": [
    "dk.describe()"
   ]
  },
  {
   "cell_type": "code",
   "execution_count": null,
   "id": "cc6bd017",
   "metadata": {},
   "outputs": [],
   "source": [
    "dk.info()"
   ]
  },
  {
   "cell_type": "code",
   "execution_count": null,
   "id": "29d13fb4",
   "metadata": {},
   "outputs": [],
   "source": [
    "dk.info"
   ]
  },
  {
   "cell_type": "code",
   "execution_count": null,
   "id": "e9cf27e9",
   "metadata": {},
   "outputs": [],
   "source": [
    "print(dk.describe)"
   ]
  },
  {
   "cell_type": "code",
   "execution_count": null,
   "id": "b212ef6c",
   "metadata": {},
   "outputs": [],
   "source": [
    "dk.duplicated()"
   ]
  },
  {
   "cell_type": "code",
   "execution_count": null,
   "id": "50500676",
   "metadata": {},
   "outputs": [],
   "source": [
    "dk.duplicated().sum()"
   ]
  },
  {
   "cell_type": "code",
   "execution_count": null,
   "id": "cf178839",
   "metadata": {},
   "outputs": [],
   "source": [
    "dk.dtypes"
   ]
  },
  {
   "cell_type": "code",
   "execution_count": null,
   "id": "a37c6e76",
   "metadata": {},
   "outputs": [],
   "source": [
    "dk.columns=['States','Date','Frequency','Estimated Unemployment Rate','Estimated Employed','Estimated Labour Participation Rate','Region','longitude','latitude']"
   ]
  },
  {
   "cell_type": "code",
   "execution_count": null,
   "id": "81a818ae",
   "metadata": {},
   "outputs": [],
   "source": [
    "dk"
   ]
  },
  {
   "cell_type": "code",
   "execution_count": null,
   "id": "1eba9cdf",
   "metadata": {},
   "outputs": [],
   "source": [
    "print(dk)"
   ]
  },
  {
   "cell_type": "code",
   "execution_count": null,
   "id": "a6cc351e",
   "metadata": {},
   "outputs": [],
   "source": [
    "dk[['Day','Month','Year']]=dk['Date'].str.split('-',expand=True)"
   ]
  },
  {
   "cell_type": "code",
   "execution_count": null,
   "id": "6268f053",
   "metadata": {},
   "outputs": [],
   "source": [
    "dk"
   ]
  },
  {
   "cell_type": "code",
   "execution_count": null,
   "id": "5d23071e",
   "metadata": {},
   "outputs": [],
   "source": [
    "dk.drop(columns=['Frequency'],axis=0,inplace=True)\n",
    "dk"
   ]
  },
  {
   "cell_type": "code",
   "execution_count": null,
   "id": "bfa236f8",
   "metadata": {},
   "outputs": [],
   "source": [
    "dk[:8]"
   ]
  },
  {
   "cell_type": "code",
   "execution_count": null,
   "id": "4f7dec5f",
   "metadata": {},
   "outputs": [],
   "source": [
    "sns.heatmap(dk.corr(),annot=True)\n",
    "plt.show()"
   ]
  },
  {
   "cell_type": "markdown",
   "id": "c1a5c2f8",
   "metadata": {},
   "source": [
    "## Analysing data by histogram plot"
   ]
  },
  {
   "cell_type": "code",
   "execution_count": null,
   "id": "c164b53f",
   "metadata": {},
   "outputs": [],
   "source": [
    "dk.Region.value_counts()"
   ]
  },
  {
   "cell_type": "code",
   "execution_count": null,
   "id": "84d97613",
   "metadata": {},
   "outputs": [],
   "source": [
    "dk.columns\n",
    "plt.title('Indian Unemployment')\n",
    "sns.histplot(x=\"Estimated Employed\",hue=\"Region\",data=dk)\n",
    "plt.show()"
   ]
  },
  {
   "cell_type": "code",
   "execution_count": null,
   "id": "83836373",
   "metadata": {},
   "outputs": [],
   "source": [
    "plt.figure(figsize=(5,6))\n",
    "plt.title('Indian Unemployment')\n",
    "sns.histplot(x=\"Estimated Unemployment Rate\",hue=\"Region\",data=dk)\n",
    "plt.show()"
   ]
  },
  {
   "cell_type": "code",
   "execution_count": null,
   "id": "78146814",
   "metadata": {},
   "outputs": [],
   "source": [
    "fg=px.histogram(dk,x='States',y='Estimated Unemployment Rate',title='Indian unemployment rate(state-wise)',template='plotly',color='States')\n",
    "fg.update_layout(xaxis={'categoryorder':'total descending'})\n",
    "fg.show()"
   ]
  },
  {
   "cell_type": "code",
   "execution_count": null,
   "id": "3d299bfc",
   "metadata": {},
   "outputs": [],
   "source": [
    "fg=px.histogram(dk,x='Region',y='Estimated Unemployment Rate',title='Indian unemployment rate(state-wise)',template='plotly',color='Region')\n",
    "fg.update_layout(xaxis={'categoryorder':'total descending'})\n",
    "fg.show()"
   ]
  },
  {
   "cell_type": "markdown",
   "id": "6b7fee19",
   "metadata": {},
   "source": [
    "## Analysing data using barplot"
   ]
  },
  {
   "cell_type": "code",
   "execution_count": null,
   "id": "95af6e70",
   "metadata": {},
   "outputs": [],
   "source": [
    "dk.Month.unique()"
   ]
  },
  {
   "cell_type": "code",
   "execution_count": null,
   "id": "c24470da",
   "metadata": {},
   "outputs": [],
   "source": [
    "sns.barplot(x=\"Month\",y=\"Estimated Unemployment Rate\",hue=\"Year\",data=dk)"
   ]
  },
  {
   "cell_type": "code",
   "execution_count": null,
   "id": "6692bd03",
   "metadata": {},
   "outputs": [],
   "source": [
    "dk.Day.unique()"
   ]
  },
  {
   "cell_type": "code",
   "execution_count": null,
   "id": "d16e9441",
   "metadata": {},
   "outputs": [],
   "source": [
    "sns.barplot(x=\"Day\",y=\"Estimated Unemployment Rate\",hue=\"Year\",data=dk)"
   ]
  },
  {
   "cell_type": "code",
   "execution_count": null,
   "id": "a09b68a9",
   "metadata": {},
   "outputs": [],
   "source": [
    "fg=px.bar(dk,x='States',y='Estimated Unemployment Rate',title='Indian unemployment rate(state-wise)',template='plotly',color='States')\n",
    "fg.update_layout(xaxis={'categoryorder':'total descending'})\n",
    "fg.show()"
   ]
  },
  {
   "cell_type": "code",
   "execution_count": null,
   "id": "a74c4e58",
   "metadata": {},
   "outputs": [],
   "source": [
    "fg=px.bar(dk,x='Region',y='Estimated Unemployment Rate',title='Indian unemployment rate(state-wise)',template='plotly',color='Region')\n",
    "fg.update_layout(xaxis={'categoryorder':'total descending'})\n",
    "fg.show()"
   ]
  },
  {
   "cell_type": "markdown",
   "id": "02603d86",
   "metadata": {},
   "source": [
    "## Analysing data by Box plot"
   ]
  },
  {
   "cell_type": "code",
   "execution_count": null,
   "id": "1deeb6b5",
   "metadata": {},
   "outputs": [],
   "source": [
    "sns.set_theme(style=\"ticks\", palette=\"pastel\")\n",
    "sns.boxplot(x=\"Month\", y='Estimated Employed', palette=[\"m\", \"g\"], data=dk)\n",
    "sns.despine(offset=10, trim=True)"
   ]
  },
  {
   "cell_type": "code",
   "execution_count": null,
   "id": "d1bfef74",
   "metadata": {},
   "outputs": [],
   "source": [
    "dk.drop(columns=['Year'],axis=1)"
   ]
  },
  {
   "cell_type": "code",
   "execution_count": null,
   "id": "4ece8008",
   "metadata": {},
   "outputs": [],
   "source": [
    "plt.figure(figsize=[8,8])\n",
    "plt.title('Indian Unemployment')\n",
    "sns.boxplot(x=\"Month\",y=\"Estimated Unemployment Rate\",hue=\"Region\",data=dk)\n",
    "plt.show()"
   ]
  },
  {
   "cell_type": "code",
   "execution_count": null,
   "id": "1f8d2ee0",
   "metadata": {},
   "outputs": [],
   "source": [
    "plt.title('Indian Unemployment')\n",
    "sns.boxplot(x=\"Day\",y=\"Estimated Unemployment Rate\",hue=\"Region\",data=dk)\n",
    "plt.show()"
   ]
  },
  {
   "cell_type": "markdown",
   "id": "f112ec57",
   "metadata": {},
   "source": [
    "## Analysing data by scatter plot"
   ]
  },
  {
   "cell_type": "code",
   "execution_count": null,
   "id": "b43291fb",
   "metadata": {},
   "outputs": [],
   "source": [
    "fg=px.scatter(dk,x='Region',y='Estimated Unemployment Rate',title='Indian unemployment rate(state-wise)',template='plotly',color='Region')\n",
    "fg.update_layout(xaxis={'categoryorder':'total descending'})\n",
    "fg.show()"
   ]
  },
  {
   "cell_type": "code",
   "execution_count": null,
   "id": "ac64ee58",
   "metadata": {},
   "outputs": [],
   "source": [
    "fg=px.scatter(dk,x='States',y='Estimated Unemployment Rate',title='Indian unemployment rate(state-wise)',template='plotly',color='States')\n",
    "fg.update_layout(xaxis={'categoryorder':'total descending'})\n",
    "fg.show()"
   ]
  },
  {
   "cell_type": "markdown",
   "id": "c7282fa6",
   "metadata": {},
   "source": [
    "## Analysing data by sunburst chart"
   ]
  },
  {
   "cell_type": "code",
   "execution_count": null,
   "id": "1dbb1e67",
   "metadata": {},
   "outputs": [],
   "source": [
    "unemploment = dk[[\"Region\",'Estimated Unemployment Rate','States']]\n",
    "figure = px.sunburst(unemploment, path=[\"Region\",\"States\"], \n",
    "                     values='Estimated Unemployment Rate',\n",
    "                     width=700, height=700,  \n",
    "                     title=\"Indian unemployment Rate\")\n",
    "figure.show()   "
   ]
  },
  {
   "cell_type": "code",
   "execution_count": null,
   "id": "5c8454ad",
   "metadata": {},
   "outputs": [],
   "source": [
    "unemploment = dk[[\"Region\",'Estimated Unemployment Rate','States']]\n",
    "figure = px.sunburst(unemploment, path=[\"Region\",\"States\",'Estimated Unemployment Rate'], \n",
    "                     values='Estimated Unemployment Rate',\n",
    "                     width=1000, height=1000,  \n",
    "                     title=\"Indian unemployment Rate\")\n",
    "figure.show()   "
   ]
  },
  {
   "cell_type": "code",
   "execution_count": null,
   "id": "5a4e7ef2",
   "metadata": {},
   "outputs": [],
   "source": []
  }
 ],
 "metadata": {
  "kernelspec": {
   "display_name": "Python 3 (ipykernel)",
   "language": "python",
   "name": "python3"
  },
  "language_info": {
   "codemirror_mode": {
    "name": "ipython",
    "version": 3
   },
   "file_extension": ".py",
   "mimetype": "text/x-python",
   "name": "python",
   "nbconvert_exporter": "python",
   "pygments_lexer": "ipython3",
   "version": "3.10.9"
  }
 },
 "nbformat": 4,
 "nbformat_minor": 5
}
